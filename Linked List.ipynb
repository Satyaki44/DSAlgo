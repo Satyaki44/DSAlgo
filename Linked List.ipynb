{
 "cells": [
  {
   "cell_type": "markdown",
   "metadata": {},
   "source": [
    "<img src=\"https://cdn.programiz.com/sites/tutorial2program/files/linked-list-concept_0.png\">"
   ]
  },
  {
   "cell_type": "markdown",
   "metadata": {},
   "source": [
    "Theory notes coming soon here...."
   ]
  },
  {
   "cell_type": "markdown",
   "metadata": {},
   "source": [
    "### SINGLY LINKED LIST"
   ]
  },
  {
   "cell_type": "code",
   "execution_count": 45,
   "metadata": {
    "scrolled": true
   },
   "outputs": [],
   "source": [
    "#Representation\n",
    "class Node(object):\n",
    "    def __init__(self,data):\n",
    "        self.data=data\n",
    "        self.next=None\n",
    "\n",
    "class LinkedList(object):\n",
    "    def __init__(self):\n",
    "        self.head=None\n",
    "\n",
    "\n"
   ]
  },
  {
   "cell_type": "code",
   "execution_count": 19,
   "metadata": {},
   "outputs": [
    {
     "name": "stdout",
     "output_type": "stream",
     "text": [
      "The elements in the Linked List are:\n",
      "1\n",
      "2\n",
      "3\n"
     ]
    }
   ],
   "source": [
    "#Printing the elements of the LL\n",
    "class Node(object):\n",
    "    def __init__(self,data):\n",
    "        self.data=data\n",
    "        self.next=None\n",
    "\n",
    "class LinkedList(object):\n",
    "    def __init__(self):\n",
    "        self.head=None\n",
    "    \n",
    "    def printlist(self):\n",
    "        temp=self.head\n",
    "        while(temp):\n",
    "            print(temp.data)\n",
    "            temp=temp.next\n",
    "\n",
    "#code execution\n",
    "if __name__=='__main__':\n",
    "    ll=LinkedList()\n",
    "    ll.head=Node(1)\n",
    "    second=Node(2)\n",
    "    third=Node(3)\n",
    "    ll.head.next=second\n",
    "    second.next=third\n",
    "    print(\"The elements in the Linked List are:\")\n",
    "    ll.printlist()"
   ]
  },
  {
   "cell_type": "code",
   "execution_count": 44,
   "metadata": {},
   "outputs": [
    {
     "name": "stdout",
     "output_type": "stream",
     "text": [
      "The elements in the Linked List are:\n",
      "1\n",
      "2\n",
      "7\n",
      "5\n",
      "11\n",
      "44\n",
      "9\n"
     ]
    }
   ],
   "source": [
    "#inserting nodes at various positions of a Linked List\n",
    "class Node(object):\n",
    "    def __init__(self,data):\n",
    "        self.data=data\n",
    "        self.next=None\n",
    "class LinkedList(object):\n",
    "    def __init__(self):\n",
    "        self.head=None\n",
    "    \n",
    "    def printlist(self):\n",
    "        temp=self.head\n",
    "        while(temp):\n",
    "            print(temp.data)\n",
    "            temp=temp.next\n",
    "    \n",
    "    def insertfirst(self,new_data):\n",
    "        new_node=Node(new_data)\n",
    "        new_node.next=self.head\n",
    "        self.head=new_node\n",
    "    \n",
    "    def insertafter(self,prev_node,new_data):\n",
    "        new_node=Node(new_data)\n",
    "        new_node.next=prev_node.next\n",
    "        prev_node.next=new_node\n",
    "        \n",
    "    def insertlast(self,new_data):\n",
    "        new_node=Node(new_data)\n",
    "        if self.head==None:\n",
    "            self.head=new_node\n",
    "        else:\n",
    "            last=self.head\n",
    "            while(last.next):\n",
    "                last=last.next\n",
    "            last.next=new_node\n",
    "\n",
    "llist=LinkedList()\n",
    "llist.insertlast(44)\n",
    "llist.insertfirst(11)\n",
    "llist.insertfirst(2)\n",
    "llist.insertfirst(1)\n",
    "llist.insertafter(llist.head.next,5)\n",
    "llist.insertafter(llist.head.next,7)\n",
    "llist.insertlast(9)\n",
    "print(\"The elements in the Linked List are:\")\n",
    "llist.printlist()"
   ]
  },
  {
   "cell_type": "code",
   "execution_count": 49,
   "metadata": {},
   "outputs": [
    {
     "name": "stdout",
     "output_type": "stream",
     "text": [
      "The Linked List is:\n",
      "4\n",
      "3\n",
      "2\n",
      "1\n",
      "After deleting 2, our new Linked List is :\n",
      "4\n",
      "3\n",
      "1\n"
     ]
    }
   ],
   "source": [
    "#delete a node from linked list \n",
    "class Node(object):\n",
    "    def __init__(self,data):\n",
    "        self.data=data\n",
    "        self.next=None\n",
    "class LinkedList(object):\n",
    "    def __init__(self):\n",
    "        self.head=None\n",
    "        \n",
    "    def insertnode(self,new_data):\n",
    "        new_node=Node(new_data)\n",
    "        new_node.next=self.head\n",
    "        self.head=new_node\n",
    "        \n",
    "    def deletenode(self,key):\n",
    "        temp=self.head\n",
    "        \n",
    "        #if head has the value to be deleted\n",
    "        if (temp is not None):  \n",
    "            if (temp.data == key):  \n",
    "                self.head = temp.next\n",
    "                temp = None\n",
    "                return\n",
    "        while(temp is not None):\n",
    "            if temp.data==key:\n",
    "                break\n",
    "            prev=temp\n",
    "            temp=temp.next\n",
    "            \n",
    "        if(temp == None):  \n",
    "            return\n",
    "  \n",
    "         \n",
    "        prev.next = temp.next\n",
    "        temp = None\n",
    "        \n",
    "        \n",
    "    def printlist(self):\n",
    "        temp=self.head\n",
    "        while(temp):\n",
    "            print(temp.data)\n",
    "            temp=temp.next\n",
    "\n",
    "llist=LinkedList()\n",
    "llist.insertnode(1)\n",
    "llist.insertnode(2)\n",
    "llist.insertnode(3)\n",
    "llist.insertnode(4)\n",
    "print(\"The Linked List is:\")\n",
    "llist.printlist()\n",
    "print(\"After deleting 2, our new Linked List is :\")\n",
    "llist.deletenode(2)\n",
    "llist.printlist()"
   ]
  },
  {
   "cell_type": "code",
   "execution_count": 55,
   "metadata": {},
   "outputs": [
    {
     "name": "stdout",
     "output_type": "stream",
     "text": [
      "7\n",
      "4\n",
      "3\n",
      "2\n",
      "1\n",
      "Total no of elements in the linked list: 5\n"
     ]
    }
   ],
   "source": [
    "#count total number of elements in Linked List\n",
    "class Node(object):\n",
    "    def __init__(self,data):\n",
    "        self.data=data\n",
    "        self.next=None\n",
    "\n",
    "class LinkedList(object):\n",
    "    def __init__(self):\n",
    "        self.head=None\n",
    "        \n",
    "    def push(self,new_data):\n",
    "        new_node=Node(new_data)\n",
    "        new_node.next=self.head\n",
    "        self.head=new_node\n",
    "    \n",
    "    def get_count(self):\n",
    "        temp=self.head\n",
    "        count=0\n",
    "        while(temp):\n",
    "            count+=1\n",
    "            temp=temp.next\n",
    "        return count\n",
    "    def printlist(self):\n",
    "        temp=self.head\n",
    "        while(temp):\n",
    "            print(temp.data)\n",
    "            temp=temp.next\n",
    "\n",
    "llist=LinkedList()\n",
    "llist.push(1)\n",
    "llist.push(2)\n",
    "llist.push(3)\n",
    "llist.push(4)\n",
    "llist.push(7)\n",
    "llist.printlist()\n",
    "print(\"Total no of elements in the linked list:\",llist.get_count())"
   ]
  },
  {
   "cell_type": "markdown",
   "metadata": {},
   "source": [
    "#### Updates are coming soon..."
   ]
  }
 ],
 "metadata": {
  "kernelspec": {
   "display_name": "Python 3",
   "language": "python",
   "name": "python3"
  },
  "language_info": {
   "codemirror_mode": {
    "name": "ipython",
    "version": 3
   },
   "file_extension": ".py",
   "mimetype": "text/x-python",
   "name": "python",
   "nbconvert_exporter": "python",
   "pygments_lexer": "ipython3",
   "version": "3.8.3"
  }
 },
 "nbformat": 4,
 "nbformat_minor": 4
}
